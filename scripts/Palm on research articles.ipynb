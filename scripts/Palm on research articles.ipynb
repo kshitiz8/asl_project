{
 "cells": [
  {
   "cell_type": "code",
   "execution_count": 4,
   "id": "9d379ab0-a946-4249-b8ae-66a774b747b3",
   "metadata": {},
   "outputs": [
    {
     "name": "stdout",
     "output_type": "stream",
     "text": [
      "1.26.0\n"
     ]
    }
   ],
   "source": [
    "\n",
    "\n",
    "from google.cloud import aiplatform  # requires >=1.25.0\n",
    "from vertexai.language_models import TextGenerationModel\n",
    "\n",
    "print(aiplatform.__version__)\n",
    "\n"
   ]
  },
  {
   "cell_type": "code",
   "execution_count": 5,
   "id": "13211d84-d811-468f-9a76-5dccf7b43f5a",
   "metadata": {},
   "outputs": [],
   "source": [
    "def generate(\n",
    "    prompt: str,\n",
    "    model_name: str = \"text-bison@001\",\n",
    "    temperature: float = 0.2,\n",
    "    max_output_tokens: int = 256,\n",
    "    top_p: float = 0.8,\n",
    "    top_k: int = 40,\n",
    "):\n",
    "    model = TextGenerationModel.from_pretrained(model_name)\n",
    "    response = model.predict(\n",
    "        prompt,\n",
    "        temperature=temperature,\n",
    "        max_output_tokens=max_output_tokens,\n",
    "        top_p=top_p,\n",
    "        top_k=top_k,\n",
    "    )\n",
    "\n",
    "    return response"
   ]
  },
  {
   "cell_type": "code",
   "execution_count": 6,
   "id": "106ab7ed-d111-4e8d-b59a-638eb69e725e",
   "metadata": {},
   "outputs": [
    {
     "data": {
      "text/plain": [
       "1. **Large language models are trained on massive datasets of text and code.** This gives them a vast knowledge base that they can draw on to generate text, translate languages, write different kinds of creative content, answer your questions, and more.\n",
       "2. **Large language models are still under development, and there are some limitations to their capabilities.** For example, they can sometimes be biased or inaccurate, and they may not always understand the nuances of human language.\n",
       "3. **Large language models are being used in a variety of applications, such as customer service, content creation, and medical research.** As they continue to develop, we can expect to see even more uses for these powerful tools.\n",
       "4. **There are some ethical concerns associated with large language models, such as the potential for bias and misinformation.** It is important to be aware of these concerns and to use large language models responsibly.\n",
       "5. **Large language models are a rapidly growing field, and there is much that we still don't know about them.** As research continues, we will learn more about their capabilities and limitations, and how best to use them."
      ]
     },
     "execution_count": 6,
     "metadata": {},
     "output_type": "execute_result"
    }
   ],
   "source": [
    "generate(\n",
    "    \"What are five important things to understand about large language models?\"\n",
    ")"
   ]
  },
  {
   "cell_type": "code",
   "execution_count": 28,
   "id": "66082735-d6c0-4d2e-8114-8c710a031e4e",
   "metadata": {},
   "outputs": [
    {
     "data": {
      "text/plain": [
       "The text is about machine learning. It is about the ease of using Google's PaLM API"
      ]
     },
     "execution_count": 28,
     "metadata": {},
     "output_type": "execute_result"
    }
   ],
   "source": [
    "prompt = \"\"\"\n",
    "Classify the following: \n",
    "text: \"Zero-shot prompting is really easy with Google's PaLM API.\"\n",
    "labels: [ technology, politics, sports, 'machine learning' ]\n",
    "\"\"\"\n",
    "\n",
    "generate(prompt, max_output_tokens=20)"
   ]
  },
  {
   "cell_type": "code",
   "execution_count": 8,
   "id": "c262125a-2a8d-435b-afb4-641a87a98f7d",
   "metadata": {},
   "outputs": [
    {
     "data": {
      "text/plain": [
       "cats"
      ]
     },
     "execution_count": 8,
     "metadata": {},
     "output_type": "execute_result"
    }
   ],
   "source": [
    "prompt = \"\"\"\n",
    "What is the topic for a given text? \n",
    "- cats \n",
    "- dogs \n",
    "\n",
    "Text: They always sits on my lap and purr!\n",
    "The answer is: cats\n",
    "\n",
    "Text: They love to play fetch\n",
    "The answer is: dogs\n",
    "\n",
    "Text: I throw the frisbee in the water and they swim for hours! \n",
    "The answer is: dogs \n",
    "\n",
    "Text: They always knock things off my counter!\n",
    "The answer is:\n",
    "\"\"\"\n",
    "\n",
    "generate(prompt, max_output_tokens=5)"
   ]
  },
  {
   "cell_type": "code",
   "execution_count": 9,
   "id": "2a456b94-0a50-40a2-8905-6146dd27b337",
   "metadata": {},
   "outputs": [
    {
     "data": {
      "text/plain": [
       "A transformer is a deep learning model that processes sequential input data, such as natural language, with applications towards tasks such as translation and text summarization. Unlike RNNs, transformers process the entire input all at once, which allows for more parallelization and reduces training times."
      ]
     },
     "execution_count": 9,
     "metadata": {},
     "output_type": "execute_result"
    }
   ],
   "source": [
    "prompt = \"\"\"\n",
    "Provide a very short summary for the following:\n",
    "\n",
    "A transformer is a deep learning model. It is distinguished by its adoption of self-attention, \n",
    "differentially weighting the significance of each part of the input (which includes the \n",
    "recursive output) data. Like recurrent neural networks (RNNs), transformers are designed to \n",
    "process sequential input data, such as natural language, with applications towards tasks such \n",
    "as translation and text summarization. However, unlike RNNs, transformers process the \n",
    "entire input all at once. The attention mechanism provides context for any position in the \n",
    "input sequence. For example, if the input data is a natural language sentence, the transformer \n",
    "does not have to process one word at a time. This allows for more parallelization than RNNs \n",
    "and therefore reduces training times.\n",
    "\n",
    "Summary:\n",
    "\n",
    "\"\"\"\n",
    "generate(prompt, max_output_tokens=1024)"
   ]
  },
  {
   "cell_type": "code",
   "execution_count": 10,
   "id": "1738cf65-7667-488f-aa0f-52a013d5c02f",
   "metadata": {},
   "outputs": [
    {
     "data": {
      "text/plain": [
       "- A transformer is a deep learning model that is distinguished by its adoption of self-attention.\n",
       "- Transformers are designed to process sequential input data, such as natural language.\n",
       "- Unlike RNNs, transformers process the entire input all at once.\n",
       "- The attention mechanism provides context for any position in the input sequence."
      ]
     },
     "execution_count": 10,
     "metadata": {},
     "output_type": "execute_result"
    }
   ],
   "source": [
    "prompt = \"\"\"\n",
    "Provide four bullet points summarizing the following:\n",
    "\n",
    "A transformer is a deep learning model. It is distinguished by its adoption of self-attention, \n",
    "differentially weighting the significance of each part of the input (which includes the \n",
    "recursive output) data. Like recurrent neural networks (RNNs), transformers are designed to \n",
    "process sequential input data, such as natural language, with applications towards tasks such \n",
    "as translation and text summarization. However, unlike RNNs, transformers process the \n",
    "entire input all at once. The attention mechanism provides context for any position in the \n",
    "input sequence. For example, if the input data is a natural language sentence, the transformer \n",
    "does not have to process one word at a time. This allows for more parallelization than RNNs \n",
    "and therefore reduces training times.\n",
    "\n",
    "Summary:\n",
    "\n",
    "\"\"\"\n",
    "generate(prompt, max_output_tokens=1024)"
   ]
  },
  {
   "cell_type": "code",
   "execution_count": 11,
   "id": "f467ceee-5ee8-41cd-adb8-86e31d30a1ec",
   "metadata": {},
   "outputs": [
    {
     "data": {
      "text/plain": [
       "Kyle is having issues using the PaLM API. He keeps getting an error that says \"ResourceExhausted: 429 Quota exceeded for \n",
       "      aiplatform.googleapis.com/online_prediction_requests_per_base_model \n",
       "      with base model: text-bison\".\n",
       "\n",
       "The service rep informs Kyle that he has exceeded the quota for usage and provides a link to information about quotas and limits. Kyle asks if the service rep can increase his quota, but the service rep says that he cannot. The service rep will follow up with somebody who will be able to help.\n",
       "\n",
       "To-do's for the service rep:\n",
       "- Follow up with somebody who can increase Kyle's quota.\n",
       "- Provide Kyle with more information about quotas and limits."
      ]
     },
     "execution_count": 11,
     "metadata": {},
     "output_type": "execute_result"
    }
   ],
   "source": [
    "prompt = \"\"\"\n",
    "Generate a summary of the following converstaion and at the end, summarize to-do's for the service rep: \n",
    "\n",
    "Kyle: Hi! I'm reaching out to customer service because I am having issues.\n",
    "\n",
    "Service Rep: What seems to be the problem? \n",
    "\n",
    "Kyle: I am trying to use the PaLM API but I keep getting an error. \n",
    "\n",
    "Service Rep: Can you share the error with me? \n",
    "\n",
    "Kyle: Sure. The error says: \"ResourceExhausted: 429 Quota exceeded for \n",
    "      aiplatform.googleapis.com/online_prediction_requests_per_base_model \n",
    "      with base model: text-bison\"\n",
    "      \n",
    "Service Rep: It looks like you have exceeded the quota for usage. Please refer to \n",
    "             https://cloud.google.com/vertex-ai/docs/quotas for information about quotas\n",
    "             and limits. \n",
    "             \n",
    "Kyle: Can you increase my quota?\n",
    "\n",
    "Service Rep: I cannot, but let me follow up with somebody who will be able to help.\n",
    "\n",
    "Summary:\n",
    "\"\"\"\n",
    "\n",
    "generate(prompt, max_output_tokens=256)"
   ]
  },
  {
   "cell_type": "code",
   "execution_count": 12,
   "id": "9ee4a6f0-71de-49ab-9d74-1f40e7328572",
   "metadata": {},
   "outputs": [
    {
     "data": {
      "text/plain": [
       "```\n",
       "{\n",
       "  \"ingredient\": \"olive oil\",\n",
       "  \"quantity\": \"1 tablespoon\",\n",
       "  \"type\": \"oil\"\n",
       "},\n",
       "{\n",
       "  \"ingredient\": \"onion\",\n",
       "  \"quantity\": \"1\",\n",
       "  \"type\": \"vegetable\"\n",
       "},\n",
       "{\n",
       "  \"ingredient\": \"carrot\",\n",
       "  \"quantity\": \"2\",\n",
       "  \"type\": \"vegetable\"\n",
       "},\n",
       "{\n",
       "  \"ingredient\": \"celery\",\n",
       "  \"quantity\": \"2\",\n",
       "  \"type\": \"vegetable\"\n",
       "},\n",
       "{\n",
       "  \"ingredient\": \"ground cumin\",\n",
       "  \"quantity\": \"1 teaspoon\",\n",
       "  \"type\": \"spice\"\n",
       "},\n",
       "{\n",
       "  \"ingredient\": \"ground coriander\",\n",
       "  \"quantity\": \"1/2 teaspoon\",\n",
       "  \"type\": \"spice\"\n",
       "},\n",
       "{\n",
       "  \"ingredient\": \"turmeric powder\",\n",
       "  \"quantity\": \"1/4 teaspoon\",\n",
       "  \"type\": \"spice\"\n",
       "},\n",
       "{\n",
       "  \"ingredient\": \"cayenne pepper\",\n",
       "  \"quantity\": \"1/4 teaspoon\",\n",
       "  \"type\": \"spice\"\n",
       "},\n",
       "{\n",
       "  \"ingredient\": \"salt\",\n",
       "  \"quantity\": \"to taste\",\n",
       "  \"type\": \"seasoning\"\n",
       "},\n",
       "{\n",
       "  \"ingredient\": \"pepper\",\n",
       "  \"quantity\": \"to taste\",\n",
       "  \"type\": \"seasoning\"\n",
       "},\n",
       "{\n",
       "  \"ingredient\": \"black beans\",\n",
       "  \"quantity\": \"1 (15 ounce) can\",\n",
       "  \"type\": \"bean\"\n",
       "},\n",
       "{\n",
       "  \"ingredient\": \"kidney beans\",\n",
       "  \"quantity\": \"1 (15 ounce) can\",\n",
       "  \"type\": \"bean\"\n",
       "},\n",
       "{\n",
       "  \"ingredient\": \"diced tomatoes\",\n",
       "  \"quantity\": \"1 (14.5 ounce) can\",\n",
       "  \"type\": \"vegetable\"\n",
       "},\n",
       "{\n",
       "  \"ingredient\": \"diced tomatoes with green chilies\",\n",
       "  \"quantity\": \"1 (10 ounce) can\",\n",
       "  \"type\": \"vegetable\"\n",
       "},\n",
       "{\n",
       "  \"ingredient\": \"vegetable broth\",\n",
       "  \"quantity\": \"4 cups\",\n",
       "  \"type\": \"liquid\"\n",
       "},\n",
       "{\n",
       "  \"ingredient\": \"chopped fresh cilantro\",\n",
       "  \"quantity\": \"1 cup\",\n",
       "  \"type\": \"herb\"\n",
       "}\n",
       "```"
      ]
     },
     "execution_count": 12,
     "metadata": {},
     "output_type": "execute_result"
    }
   ],
   "source": [
    "prompt = \"\"\"\n",
    "Extract the ingredients from the following recipe. \n",
    "Return the ingredients in JSON format with keys: ingredient, quantity, type.\n",
    "\n",
    "Ingredients:\n",
    "* 1 tablespoon olive oil\n",
    "* 1 onion, chopped\n",
    "* 2 carrots, chopped\n",
    "* 2 celery stalks, chopped\n",
    "* 1 teaspoon ground cumin\n",
    "* 1/2 teaspoon ground coriander\n",
    "* 1/4 teaspoon turmeric powder\n",
    "* 1/4 teaspoon cayenne pepper (optional)\n",
    "* Salt and pepper to taste\n",
    "* 1 (15 ounce) can black beans, rinsed and drained\n",
    "* 1 (15 ounce) can kidney beans, rinsed and drained\n",
    "* 1 (14.5 ounce) can diced tomatoes, undrained\n",
    "* 1 (10 ounce) can diced tomatoes with green chilies, undrained\n",
    "* 4 cups vegetable broth\n",
    "* 1 cup chopped fresh cilantro\n",
    "\"\"\"\n",
    "generate(prompt, max_output_tokens=1024)"
   ]
  },
  {
   "cell_type": "code",
   "execution_count": 13,
   "id": "c6abcc9a-54be-440f-baf9-9b8bcf044dc4",
   "metadata": {},
   "outputs": [
    {
     "data": {
      "text/plain": [
       "{\n",
       "  \"product\":\"Google Pixel 7\",\n",
       "  \"network\":\"5G\",\n",
       "  \"RAM\":\"8GB\",\n",
       "  \"processor\":\"Tensor G2\",\n",
       "  \"storage\":\"128GB\",\n",
       "  \"color\":\"Lemongrass\"\n",
       "}"
      ]
     },
     "execution_count": 13,
     "metadata": {},
     "output_type": "execute_result"
    }
   ],
   "source": [
    "\n",
    "\n",
    "prompt = \"\"\"\n",
    "Extract the technical specifications from the text below in JSON format.\n",
    "\n",
    "Text: Google Nest WiFi, network speed up to 1200Mpbs, 2.4GHz and 5GHz frequencies, WP3 protocol\n",
    "JSON: {\n",
    "  \"product\":\"Google Nest WiFi\",\n",
    "  \"speed\":\"1200Mpbs\",\n",
    "  \"frequencies\": [\"2.4GHz\", \"5GHz\"],\n",
    "  \"protocol\":\"WP3\"\n",
    "}\n",
    "\n",
    "Text: Google Pixel 7, 5G network, 8GB RAM, Tensor G2 processor, 128GB of storage, Lemongrass\n",
    "JSON:\n",
    "\"\"\"\n",
    "\n",
    "generate(prompt, max_output_tokens=1024)\n",
    "\n"
   ]
  },
  {
   "cell_type": "code",
   "execution_count": 34,
   "id": "98bdad5f-ae82-4abc-b647-aa24109e205a",
   "metadata": {},
   "outputs": [],
   "source": [
    "candidate_labels = [\"Computer Science\", \"Physics\", \"Mathematics\", \"Statistics\", \n",
    "                    \"Quantitative Biology\", \"Quantitative Finance\", \"None\" ]\n",
    "label_str=\",\".join(candidate_labels)"
   ]
  },
  {
   "cell_type": "code",
   "execution_count": 44,
   "id": "a2aa6058-b15f-4143-a4da-7dbdde6e25c7",
   "metadata": {},
   "outputs": [],
   "source": [
    "def get_pred(text):\n",
    "    prompt = f\"\"\"\n",
    "Classify the following:\n",
    "text: \"{text}\"\n",
    "labels: [{label_str}]\n",
    "\"\"\"\n",
    "    return generate(prompt, max_output_tokens=4)\n",
    "\n",
    "generate(prompt, max_output_tokens=20)\n",
    "\n",
    "def get_df_with_prediction(data, inp_columns):\n",
    "    small_df = df\n",
    "    arr_pred_multi_class = []\n",
    "    arr_pred = []\n",
    "    it = 1\n",
    "    \n",
    "    for id in tqdm.tqdm(small_df.index):\n",
    "        sequence = \" \".join([small_df[col][id] for col in inp_columns])\n",
    "        pred = classifier(sequence, candidate_labels)\n",
    "        arr_pred.append(pred)\n",
    "        pred_multi = classifier(sequence, candidate_labels, multi_label=True)\n",
    "        arr_pred_multi_class.append(pred_multi)\n",
    "    small_df['pred_multi_class'] = arr_pred_multi_class\n",
    "    small_df['pred'] = arr_pred\n",
    "    return small_df\n",
    "    "
   ]
  },
  {
   "cell_type": "code",
   "execution_count": 45,
   "id": "b4b6485f-2a16-4835-8ef7-d829871352c2",
   "metadata": {},
   "outputs": [
    {
     "data": {
      "text/plain": [
       "The text is about"
      ]
     },
     "execution_count": 45,
     "metadata": {},
     "output_type": "execute_result"
    }
   ],
   "source": [
    "get_pred(\"Multivariate Dependency Measure based on Copula and Gaussian Kernel\")"
   ]
  },
  {
   "cell_type": "code",
   "execution_count": 58,
   "id": "c82340fd-a01c-4499-8358-326a2cf542ba",
   "metadata": {},
   "outputs": [
    {
     "data": {
      "text/plain": [
       "The text is about a multivariate dependency measure based on copula and Gaussian kernel. It is a mathematical topic"
      ]
     },
     "execution_count": 58,
     "metadata": {},
     "output_type": "execute_result"
    }
   ],
   "source": [
    "prompt = \"\"\"\n",
    "Classify the following, with multiple label if applicable: \n",
    "text: Multivariate Dependency Measure based on Copula and Gaussian Kernel\n",
    "labels: ['Computer Science','Physics','Mathematics', 'Statistics', 'Quantitative Biology','Quantitative Finance']\n",
    "\"\"\"\n",
    "\n",
    "generate(prompt, max_output_tokens=20)"
   ]
  },
  {
   "cell_type": "code",
   "execution_count": 59,
   "id": "b5c5bc16-1c26-4c9d-848b-cfb08f1b2c5c",
   "metadata": {},
   "outputs": [
    {
     "data": {
      "text/plain": [
       "Physics"
      ]
     },
     "execution_count": 59,
     "metadata": {},
     "output_type": "execute_result"
    }
   ],
   "source": [
    "prompt = \"\"\"\n",
    "What are the posssible choices for the topic of the text:\n",
    " - Computer Science\n",
    " - Physics \n",
    " - Mathematics \n",
    " - Statistics \n",
    " - Quantitative Biology\n",
    " - Quantitative Finance\n",
    " \n",
    "Text: \"Multivariate Dependency Measure based on Copula and Gaussian Kernel\"\n",
    "The Answer is : Mathematics, statistics\n",
    "\n",
    "Text: Deep Neural Network Optimized to Resistive Memory with Nonlinear Current-Voltage Characteristics\n",
    "The Answer is : Computer Science\n",
    "\n",
    "Text: On the rotation period and shape of the hyperbolic asteroid 1I/`Oumuamua (2017) U1 from its lightcurve\n",
    "The Answer is:\n",
    "\n",
    "\"\"\"\n",
    "\n",
    "generate(prompt, max_output_tokens=20)"
   ]
  },
  {
   "cell_type": "code",
   "execution_count": 62,
   "id": "50aeaa12-0580-40b3-aee9-d90376d34120",
   "metadata": {},
   "outputs": [
    {
     "data": {
      "text/plain": [
       "Physics"
      ]
     },
     "execution_count": 62,
     "metadata": {},
     "output_type": "execute_result"
    }
   ],
   "source": [
    "prompt = \"\"\"\n",
    "What are the posssible choices for the topic of the text:\n",
    " - Computer Science\n",
    " - Physics \n",
    " - Mathematics \n",
    " - Statistics \n",
    " - Quantitative Biology\n",
    " - Quantitative Finance\n",
    " \n",
    "Title: Multivariate Dependency Measure based on Copula and Gaussian Kernel\n",
    "Abstract:   We propose a new multivariate dependency measure. It is obtained by considering a Gaussian kernel based distance between the copula transform of the given d-dimensional distribution and the uniform copula and then appropriately normalizing it. The resulting measure is shown to satisfy a number of\n",
    "The Answer is : Mathematics, statistics\n",
    "\n",
    "Title: Deep Neural Network Optimized to Resistive Memory with Nonlinear Current-Voltage Characteristics\n",
    "Abstract: Artificial Neural Network computation relies on intensive vector-matrix multiplications. Recently, the emerging nonvolatile memory (NVM) crossbar array showed a feasibility of implementing such operations with high energy efficiency, thus there are many works on efficiently utilizing emerging NVM\n",
    "The Answer is : Computer Science\n",
    "\n",
    "Title: A local ensemble transform Kalman particle filter for convective scale data assimilation. \n",
    "Abstract: Ensemble data assimilation methods such as the Ensemble Kalman Filter (EnKF) are a key component of probabilistic weather forecasting. They represent the uncertainty in the initial conditions by an ensemble which incorporates information coming from the physical model with the latest observations\n",
    "The Answer is:\n",
    "\n",
    "\"\"\"\n",
    "\n",
    "generate(prompt, max_output_tokens=20)"
   ]
  },
  {
   "cell_type": "code",
   "execution_count": 64,
   "id": "063a97b9-65af-4679-8cc9-d22896b3aed4",
   "metadata": {},
   "outputs": [
    {
     "data": {
      "text/plain": [
       "Mathematics, statistics"
      ]
     },
     "execution_count": 64,
     "metadata": {},
     "output_type": "execute_result"
    }
   ],
   "source": [
    "#physics,maths\n",
    "\n",
    "prompt = \"\"\"\n",
    "What are the posssible choices for the topic of the text:\n",
    " - Computer Science\n",
    " - Physics \n",
    " - Mathematics \n",
    " - Statistics \n",
    " - Quantitative Biology\n",
    " - Quantitative Finance\n",
    " \n",
    "Title: Multivariate Dependency Measure based on Copula and Gaussian Kernel\n",
    "Abstract:   We propose a new multivariate dependency measure. It is obtained by considering a Gaussian kernel based distance between the copula transform of the given d-dimensional distribution and the uniform copula and then appropriately normalizing it. The resulting measure is shown to satisfy a number of\n",
    "The Answer is : Mathematics, statistics\n",
    "\n",
    "Title: Deep Neural Network Optimized to Resistive Memory with Nonlinear Current-Voltage Characteristics\n",
    "Abstract: Artificial Neural Network computation relies on intensive vector-matrix multiplications. Recently, the emerging nonvolatile memory (NVM) crossbar array showed a feasibility of implementing such operations with high energy efficiency, thus there are many works on efficiently utilizing emerging NVM\n",
    "The Answer is : Computer Science\n",
    "\n",
    "Title: Density large deviations for multidimensional stochastic hyperbolic conservation laws\n",
    "Abstract: We investigate the density large deviation function for a multidimensional conservation law in the vanishing viscosity limit, when the probability concentrates on weak solutions of a hyperbolic conservation law conservation law. When the conductivity and diffusivity matrices are proportional, i.e\n",
    "The Answer is:\n",
    "\n",
    "\"\"\"\n",
    "\n",
    "generate(prompt, max_output_tokens=20)"
   ]
  },
  {
   "cell_type": "code",
   "execution_count": null,
   "id": "a9e5b6b5-7ff4-408d-b130-db83a350db5a",
   "metadata": {},
   "outputs": [],
   "source": []
  }
 ],
 "metadata": {
  "environment": {
   "kernel": "python3",
   "name": "tf2-gpu.2-11.m108",
   "type": "gcloud",
   "uri": "gcr.io/deeplearning-platform-release/tf2-gpu.2-11:m108"
  },
  "kernelspec": {
   "display_name": "Python 3 (ipykernel)",
   "language": "python",
   "name": "python3"
  },
  "language_info": {
   "codemirror_mode": {
    "name": "ipython",
    "version": 3
   },
   "file_extension": ".py",
   "mimetype": "text/x-python",
   "name": "python",
   "nbconvert_exporter": "python",
   "pygments_lexer": "ipython3",
   "version": "3.10.10"
  }
 },
 "nbformat": 4,
 "nbformat_minor": 5
}
