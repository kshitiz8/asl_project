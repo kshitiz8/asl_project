{
 "cells": [
  {
   "attachments": {},
   "cell_type": "markdown",
   "id": "b09e7074-b983-46d7-b4a4-604d3c7ea0d8",
   "metadata": {},
   "source": [
    "## USE Model"
   ]
  },
  {
   "cell_type": "code",
   "execution_count": 1,
   "id": "94442b28-e874-4df2-a999-8004ad91f454",
   "metadata": {
    "collapsed": true,
    "jupyter": {
     "outputs_hidden": true
    },
    "tags": []
   },
   "outputs": [
    {
     "name": "stderr",
     "output_type": "stream",
     "text": [
      "2023-06-12 18:18:33.215589: I tensorflow/core/platform/cpu_feature_guard.cc:182] This TensorFlow binary is optimized to use available CPU instructions in performance-critical operations.\n",
      "To enable the following instructions: AVX2 FMA, in other operations, rebuild TensorFlow with the appropriate compiler flags.\n",
      "/opt/conda/lib/python3.10/site-packages/tensorflow_io/python/ops/__init__.py:98: UserWarning: unable to load libtensorflow_io_plugins.so: unable to open file: libtensorflow_io_plugins.so, from paths: ['/opt/conda/lib/python3.10/site-packages/tensorflow_io/python/ops/libtensorflow_io_plugins.so']\n",
      "caused by: ['/opt/conda/lib/python3.10/site-packages/tensorflow_io/python/ops/libtensorflow_io_plugins.so: undefined symbol: _ZN3tsl6StatusC1EN10tensorflow5error4CodeESt17basic_string_viewIcSt11char_traitsIcEENS_14SourceLocationE']\n",
      "  warnings.warn(f\"unable to load libtensorflow_io_plugins.so: {e}\")\n",
      "/opt/conda/lib/python3.10/site-packages/tensorflow_io/python/ops/__init__.py:104: UserWarning: file system plugins are not loaded: unable to open file: libtensorflow_io.so, from paths: ['/opt/conda/lib/python3.10/site-packages/tensorflow_io/python/ops/libtensorflow_io.so']\n",
      "caused by: ['/opt/conda/lib/python3.10/site-packages/tensorflow_io/python/ops/libtensorflow_io.so: undefined symbol: _ZTVN10tensorflow13GcsFileSystemE']\n",
      "  warnings.warn(f\"file system plugins are not loaded: {e}\")\n"
     ]
    }
   ],
   "source": [
    "import tensorflow as tf\n",
    "import tensorflow_hub as hub\n",
    "import pandas\n",
    "from sklearn.metrics import confusion_matrix,precision_score,recall_score,roc_curve,auc,f1_score,accuracy_score\n",
    "import numpy as np\n",
    "\n",
    "\n",
    "candidate_labels = [\"finance\", \"apparel and fashion\", \"food and dining\", \"health and medicine\", \n",
    "                    \"tech and electronics\", \"entertainment\", \"home and garden\", \"science and environment\",\n",
    "                    \"government and politics\", \"apparel\", ]\n",
    "                    # \"career\", \"banking and payments\", \n",
    "                    # \"sports\", \"personal care and beauty\", \"travel\", \"real estate\", \n",
    "                    # \"investment\", \"automotive\", \"consumer electronics\", \"social\", \n",
    "                    # \"sports fan\", \"restaurants and dining\", \"shoes\", \"casual apparel\", \n",
    "                    # \"cooking and recipes\", \"education\" ]"
   ]
  },
  {
   "cell_type": "code",
   "execution_count": 2,
   "id": "43268a0c-1b6d-4727-9f9f-17b699af5e86",
   "metadata": {
    "collapsed": true,
    "jupyter": {
     "outputs_hidden": true
    },
    "tags": []
   },
   "outputs": [
    {
     "name": "stderr",
     "output_type": "stream",
     "text": [
      "2023-06-12 18:18:42.428182: I tensorflow/compiler/xla/stream_executor/cuda/cuda_gpu_executor.cc:996] successful NUMA node read from SysFS had negative value (-1), but there must be at least one NUMA node, so returning NUMA node zero. See more at https://github.com/torvalds/linux/blob/v6.0/Documentation/ABI/testing/sysfs-bus-pci#L344-L355\n",
      "2023-06-12 18:18:42.434348: I tensorflow/compiler/xla/stream_executor/cuda/cuda_gpu_executor.cc:996] successful NUMA node read from SysFS had negative value (-1), but there must be at least one NUMA node, so returning NUMA node zero. See more at https://github.com/torvalds/linux/blob/v6.0/Documentation/ABI/testing/sysfs-bus-pci#L344-L355\n",
      "2023-06-12 18:18:42.435969: I tensorflow/compiler/xla/stream_executor/cuda/cuda_gpu_executor.cc:996] successful NUMA node read from SysFS had negative value (-1), but there must be at least one NUMA node, so returning NUMA node zero. See more at https://github.com/torvalds/linux/blob/v6.0/Documentation/ABI/testing/sysfs-bus-pci#L344-L355\n",
      "2023-06-12 18:18:42.438928: I tensorflow/compiler/xla/stream_executor/cuda/cuda_gpu_executor.cc:996] successful NUMA node read from SysFS had negative value (-1), but there must be at least one NUMA node, so returning NUMA node zero. See more at https://github.com/torvalds/linux/blob/v6.0/Documentation/ABI/testing/sysfs-bus-pci#L344-L355\n",
      "2023-06-12 18:18:42.440587: I tensorflow/compiler/xla/stream_executor/cuda/cuda_gpu_executor.cc:996] successful NUMA node read from SysFS had negative value (-1), but there must be at least one NUMA node, so returning NUMA node zero. See more at https://github.com/torvalds/linux/blob/v6.0/Documentation/ABI/testing/sysfs-bus-pci#L344-L355\n",
      "2023-06-12 18:18:42.442201: I tensorflow/compiler/xla/stream_executor/cuda/cuda_gpu_executor.cc:996] successful NUMA node read from SysFS had negative value (-1), but there must be at least one NUMA node, so returning NUMA node zero. See more at https://github.com/torvalds/linux/blob/v6.0/Documentation/ABI/testing/sysfs-bus-pci#L344-L355\n",
      "2023-06-12 18:18:43.421651: I tensorflow/compiler/xla/stream_executor/cuda/cuda_gpu_executor.cc:996] successful NUMA node read from SysFS had negative value (-1), but there must be at least one NUMA node, so returning NUMA node zero. See more at https://github.com/torvalds/linux/blob/v6.0/Documentation/ABI/testing/sysfs-bus-pci#L344-L355\n",
      "2023-06-12 18:18:43.423558: I tensorflow/compiler/xla/stream_executor/cuda/cuda_gpu_executor.cc:996] successful NUMA node read from SysFS had negative value (-1), but there must be at least one NUMA node, so returning NUMA node zero. See more at https://github.com/torvalds/linux/blob/v6.0/Documentation/ABI/testing/sysfs-bus-pci#L344-L355\n",
      "2023-06-12 18:18:43.425332: I tensorflow/compiler/xla/stream_executor/cuda/cuda_gpu_executor.cc:996] successful NUMA node read from SysFS had negative value (-1), but there must be at least one NUMA node, so returning NUMA node zero. See more at https://github.com/torvalds/linux/blob/v6.0/Documentation/ABI/testing/sysfs-bus-pci#L344-L355\n",
      "2023-06-12 18:18:43.426906: I tensorflow/core/common_runtime/gpu/gpu_device.cc:1635] Created device /job:localhost/replica:0/task:0/device:GPU:0 with 13546 MB memory:  -> device: 0, name: Tesla T4, pci bus id: 0000:00:04.0, compute capability: 7.5\n"
     ]
    }
   ],
   "source": [
    "model = hub.load(\"https://tfhub.dev/google/universal-sentence-encoder-large/5\")"
   ]
  },
  {
   "cell_type": "code",
   "execution_count": 4,
   "id": "a63ade80-4736-4dd5-b441-b4c2d52c6384",
   "metadata": {},
   "outputs": [
    {
     "data": {
      "text/plain": [
       "array([ 0.029844  , -0.05816384, -0.07609773, -0.02770378, -0.05365713,\n",
       "       -0.06250247, -0.12026697, -0.0209319 ,  0.08021943, -0.06764548],\n",
       "      dtype=float32)"
      ]
     },
     "execution_count": 4,
     "metadata": {},
     "output_type": "execute_result"
    }
   ],
   "source": [
    "input_embedding = model([\"Who are you voting in 2020?\"])[0]\n",
    "\n",
    "label_embeddings = model(candidate_labels)\n",
    "scores = tf.reduce_sum(input_embedding * label_embeddings, axis=1)\n",
    "\n",
    "# label_scores = dict(zip(candidate_labels, scores.numpy()))\n",
    "scores.numpy()\n"
   ]
  },
  {
   "cell_type": "code",
   "execution_count": 31,
   "id": "638974cb-ae24-4687-aaa5-ac33b7e82976",
   "metadata": {},
   "outputs": [],
   "source": [
    "def get_df(filename, headers):\n",
    "    df_read = pandas.read_csv(filename, delimiter='\\x01', header=0, names=headers, error_bad_lines=False)\n",
    "    df = df_read[df_read['snippet'].apply(lambda x: isinstance(x,str) )]\n",
    "    return df\n",
    "\n",
    "\n",
    "def get_df_with_prediction(count, df, inp_columns):\n",
    "    small_df = df.take([x for x in range(0,count)])\n",
    "    arr_pred = []\n",
    "    it = 1\n",
    "    for id in small_df.index:\n",
    "        print(it, end = \" \")\n",
    "        it +=1\n",
    "        sequence = \" \".join([small_df[col][id] for col in inp_columns])\n",
    "        input_embedding = model([sequence])[0]\n",
    "        label_embeddings = model(candidate_labels)\n",
    "        scores = tf.reduce_sum(input_embedding * label_embeddings, axis=1)\n",
    "        arr_pred.append(scores.numpy())\n",
    "    small_df['pred'] = arr_pred\n",
    "    return small_df\n",
    "\n",
    "\n",
    "def metrics(topic, y_true, y_pred, y_prob=None):        \n",
    "    tn, fp, fn, tp = confusion_matrix(y_true, y_pred).ravel()\n",
    "    precision = precision_score(y_true, y_pred)\n",
    "    recall = recall_score(y_true, y_pred)\n",
    "    f1 = f1_score(y_true, y_pred)\n",
    "    acc = accuracy_score(y_true, y_pred)\n",
    "    metric_map = {\n",
    "        'topic': topic,\n",
    "        'precision': precision, \n",
    "        'recall': recall, \n",
    "        'f1_score': f1, \n",
    "        'accuracy': acc,        \n",
    "        'true negative':tn, \n",
    "        'false positive': fp,\n",
    "        'false negative': fn,\n",
    "        'true positive': tp,\n",
    "\n",
    "    }\n",
    "    if y_prob is not None:\n",
    "        fpr, tpr, thresholds = roc_curve(y_true, y_prob)\n",
    "        auc_score = auc(fpr, tpr)\n",
    "        metric_map['auc'] = auc_score\n",
    "    return metric_map\n",
    "    \n",
    "\n",
    "def evaluate(small_df, label_col=\"label\", threshold=0.0):\n",
    "    result = {}\n",
    "    for topic in candidate_labels:\n",
    "        result[topic] = {\"y_true\":[], \"y_pred\":[], \"y_pred_1\":[], \"y_prob\":[]}\n",
    "    for id in small_df.index:\n",
    "        labels = [x.replace(\"_\",\" \") for x in small_df[label_col][id].split(\"\\x02\")]\n",
    "        pred = small_df[\"pred\"][id]\n",
    "        for i,topic in enumerate(candidate_labels):\n",
    "            result[topic][\"y_true\"].append(1 if topic in labels else 0)\n",
    "            result[topic][\"y_prob\"].append(pred[i])\n",
    "            result[topic][\"y_pred\"].append(pred[i]>threshold)                \n",
    "                \n",
    "                \n",
    "    eval_result = []\n",
    "    eval_result_1 = []    \n",
    "    for topic in result.keys():\n",
    "        eval_result.append(\n",
    "            metrics(\n",
    "                topic,\n",
    "                result[topic][\"y_true\"], \n",
    "                result[topic][\"y_pred\"], \n",
    "                result[topic][\"y_prob\"]\n",
    "            )\n",
    "        )\n",
    "    eval_df = pandas.DataFrame(eval_result)\n",
    "    return eval_df"
   ]
  },
  {
   "cell_type": "code",
   "execution_count": 6,
   "id": "ae0f0837-1b12-4bf3-b24c-b9b26dbdd1b5",
   "metadata": {},
   "outputs": [
    {
     "name": "stderr",
     "output_type": "stream",
     "text": [
      "/var/tmp/ipykernel_212723/2937360642.py:2: FutureWarning: The error_bad_lines argument has been deprecated and will be removed in a future version. Use on_bad_lines in the future.\n",
      "\n",
      "\n",
      "  df_read = pandas.read_csv(filename, delimiter='\\x01', header=0, names=headers, error_bad_lines=False)\n",
      "Skipping line 1786: expected 9 fields, saw 10\n",
      "Skipping line 9495: expected 9 fields, saw 10\n",
      "Skipping line 25163: expected 9 fields, saw 11\n",
      "Skipping line 31456: expected 9 fields, saw 12\n",
      "\n"
     ]
    }
   ],
   "source": [
    "df_2 = get_df(\"sample2\", ['xcluster','guid','immutable_id','subject','fromname','content','snippet','topics','rnk'])"
   ]
  },
  {
   "cell_type": "code",
   "execution_count": null,
   "id": "3661cbd7-ed14-4318-aab0-74088764cbb4",
   "metadata": {
    "collapsed": true,
    "jupyter": {
     "outputs_hidden": true
    },
    "tags": []
   },
   "outputs": [],
   "source": [
    "small_df_2 = get_df_with_prediction(10000, df_2, [\"subject\",\"fromname\",\"content\"])"
   ]
  },
  {
   "cell_type": "code",
   "execution_count": 33,
   "id": "5c466870-27de-4bf2-b0f9-79e35594a482",
   "metadata": {},
   "outputs": [
    {
     "data": {
      "text/html": [
       "<style type=\"text/css\">\n",
       "#T_d9e71_row0_col5, #T_d9e71_row0_col8, #T_d9e71_row1_col5, #T_d9e71_row1_col8, #T_d9e71_row2_col5, #T_d9e71_row2_col8, #T_d9e71_row3_col5, #T_d9e71_row3_col8, #T_d9e71_row4_col5, #T_d9e71_row4_col8, #T_d9e71_row5_col5, #T_d9e71_row5_col8, #T_d9e71_row6_col5, #T_d9e71_row6_col8, #T_d9e71_row7_col5, #T_d9e71_row7_col8, #T_d9e71_row8_col5, #T_d9e71_row8_col8, #T_d9e71_row9_col5, #T_d9e71_row9_col8 {\n",
       "  color: green;\n",
       "}\n",
       "#T_d9e71_row0_col6, #T_d9e71_row0_col7, #T_d9e71_row1_col6, #T_d9e71_row1_col7, #T_d9e71_row2_col6, #T_d9e71_row2_col7, #T_d9e71_row3_col6, #T_d9e71_row3_col7, #T_d9e71_row4_col6, #T_d9e71_row4_col7, #T_d9e71_row5_col6, #T_d9e71_row5_col7, #T_d9e71_row6_col6, #T_d9e71_row6_col7, #T_d9e71_row7_col6, #T_d9e71_row7_col7, #T_d9e71_row8_col6, #T_d9e71_row8_col7, #T_d9e71_row9_col6, #T_d9e71_row9_col7 {\n",
       "  color: red;\n",
       "}\n",
       "</style>\n",
       "<table id=\"T_d9e71\">\n",
       "  <thead>\n",
       "    <tr>\n",
       "      <th class=\"blank level0\" >&nbsp;</th>\n",
       "      <th id=\"T_d9e71_level0_col0\" class=\"col_heading level0 col0\" >topic</th>\n",
       "      <th id=\"T_d9e71_level0_col1\" class=\"col_heading level0 col1\" >precision</th>\n",
       "      <th id=\"T_d9e71_level0_col2\" class=\"col_heading level0 col2\" >recall</th>\n",
       "      <th id=\"T_d9e71_level0_col3\" class=\"col_heading level0 col3\" >f1_score</th>\n",
       "      <th id=\"T_d9e71_level0_col4\" class=\"col_heading level0 col4\" >accuracy</th>\n",
       "      <th id=\"T_d9e71_level0_col5\" class=\"col_heading level0 col5\" >true negative</th>\n",
       "      <th id=\"T_d9e71_level0_col6\" class=\"col_heading level0 col6\" >false positive</th>\n",
       "      <th id=\"T_d9e71_level0_col7\" class=\"col_heading level0 col7\" >false negative</th>\n",
       "      <th id=\"T_d9e71_level0_col8\" class=\"col_heading level0 col8\" >true positive</th>\n",
       "      <th id=\"T_d9e71_level0_col9\" class=\"col_heading level0 col9\" >auc</th>\n",
       "    </tr>\n",
       "  </thead>\n",
       "  <tbody>\n",
       "    <tr>\n",
       "      <th id=\"T_d9e71_level0_row0\" class=\"row_heading level0 row0\" >0</th>\n",
       "      <td id=\"T_d9e71_row0_col0\" class=\"data row0 col0\" >finance</td>\n",
       "      <td id=\"T_d9e71_row0_col1\" class=\"data row0 col1\" >0.51</td>\n",
       "      <td id=\"T_d9e71_row0_col2\" class=\"data row0 col2\" >0.78</td>\n",
       "      <td id=\"T_d9e71_row0_col3\" class=\"data row0 col3\" >0.62</td>\n",
       "      <td id=\"T_d9e71_row0_col4\" class=\"data row0 col4\" >0.84</td>\n",
       "      <td id=\"T_d9e71_row0_col5\" class=\"data row0 col5\" >7170</td>\n",
       "      <td id=\"T_d9e71_row0_col6\" class=\"data row0 col6\" >1204</td>\n",
       "      <td id=\"T_d9e71_row0_col7\" class=\"data row0 col7\" >352</td>\n",
       "      <td id=\"T_d9e71_row0_col8\" class=\"data row0 col8\" >1272</td>\n",
       "      <td id=\"T_d9e71_row0_col9\" class=\"data row0 col9\" >0.90</td>\n",
       "    </tr>\n",
       "    <tr>\n",
       "      <th id=\"T_d9e71_level0_row1\" class=\"row_heading level0 row1\" >1</th>\n",
       "      <td id=\"T_d9e71_row1_col0\" class=\"data row1 col0\" >apparel and fashion</td>\n",
       "      <td id=\"T_d9e71_row1_col1\" class=\"data row1 col1\" >0.21</td>\n",
       "      <td id=\"T_d9e71_row1_col2\" class=\"data row1 col2\" >0.91</td>\n",
       "      <td id=\"T_d9e71_row1_col3\" class=\"data row1 col3\" >0.34</td>\n",
       "      <td id=\"T_d9e71_row1_col4\" class=\"data row1 col4\" >0.53</td>\n",
       "      <td id=\"T_d9e71_row1_col5\" class=\"data row1 col5\" >4080</td>\n",
       "      <td id=\"T_d9e71_row1_col6\" class=\"data row1 col6\" >4614</td>\n",
       "      <td id=\"T_d9e71_row1_col7\" class=\"data row1 col7\" >113</td>\n",
       "      <td id=\"T_d9e71_row1_col8\" class=\"data row1 col8\" >1191</td>\n",
       "      <td id=\"T_d9e71_row1_col9\" class=\"data row1 col9\" >0.85</td>\n",
       "    </tr>\n",
       "    <tr>\n",
       "      <th id=\"T_d9e71_level0_row2\" class=\"row_heading level0 row2\" >2</th>\n",
       "      <td id=\"T_d9e71_row2_col0\" class=\"data row2 col0\" >food and dining</td>\n",
       "      <td id=\"T_d9e71_row2_col1\" class=\"data row2 col1\" >0.13</td>\n",
       "      <td id=\"T_d9e71_row2_col2\" class=\"data row2 col2\" >0.92</td>\n",
       "      <td id=\"T_d9e71_row2_col3\" class=\"data row2 col3\" >0.23</td>\n",
       "      <td id=\"T_d9e71_row2_col4\" class=\"data row2 col4\" >0.50</td>\n",
       "      <td id=\"T_d9e71_row2_col5\" class=\"data row2 col5\" >4302</td>\n",
       "      <td id=\"T_d9e71_row2_col6\" class=\"data row2 col6\" >4901</td>\n",
       "      <td id=\"T_d9e71_row2_col7\" class=\"data row2 col7\" >66</td>\n",
       "      <td id=\"T_d9e71_row2_col8\" class=\"data row2 col8\" >729</td>\n",
       "      <td id=\"T_d9e71_row2_col9\" class=\"data row2 col9\" >0.85</td>\n",
       "    </tr>\n",
       "    <tr>\n",
       "      <th id=\"T_d9e71_level0_row3\" class=\"row_heading level0 row3\" >3</th>\n",
       "      <td id=\"T_d9e71_row3_col0\" class=\"data row3 col0\" >health and medicine</td>\n",
       "      <td id=\"T_d9e71_row3_col1\" class=\"data row3 col1\" >0.12</td>\n",
       "      <td id=\"T_d9e71_row3_col2\" class=\"data row3 col2\" >0.89</td>\n",
       "      <td id=\"T_d9e71_row3_col3\" class=\"data row3 col3\" >0.20</td>\n",
       "      <td id=\"T_d9e71_row3_col4\" class=\"data row3 col4\" >0.46</td>\n",
       "      <td id=\"T_d9e71_row3_col5\" class=\"data row3 col5\" >3958</td>\n",
       "      <td id=\"T_d9e71_row3_col6\" class=\"data row3 col6\" >5265</td>\n",
       "      <td id=\"T_d9e71_row3_col7\" class=\"data row3 col7\" >89</td>\n",
       "      <td id=\"T_d9e71_row3_col8\" class=\"data row3 col8\" >686</td>\n",
       "      <td id=\"T_d9e71_row3_col9\" class=\"data row3 col9\" >0.80</td>\n",
       "    </tr>\n",
       "    <tr>\n",
       "      <th id=\"T_d9e71_level0_row4\" class=\"row_heading level0 row4\" >4</th>\n",
       "      <td id=\"T_d9e71_row4_col0\" class=\"data row4 col0\" >tech and electronics</td>\n",
       "      <td id=\"T_d9e71_row4_col1\" class=\"data row4 col1\" >0.11</td>\n",
       "      <td id=\"T_d9e71_row4_col2\" class=\"data row4 col2\" >0.73</td>\n",
       "      <td id=\"T_d9e71_row4_col3\" class=\"data row4 col3\" >0.19</td>\n",
       "      <td id=\"T_d9e71_row4_col4\" class=\"data row4 col4\" >0.55</td>\n",
       "      <td id=\"T_d9e71_row4_col5\" class=\"data row4 col5\" >4955</td>\n",
       "      <td id=\"T_d9e71_row4_col6\" class=\"data row4 col6\" >4306</td>\n",
       "      <td id=\"T_d9e71_row4_col7\" class=\"data row4 col7\" >200</td>\n",
       "      <td id=\"T_d9e71_row4_col8\" class=\"data row4 col8\" >537</td>\n",
       "      <td id=\"T_d9e71_row4_col9\" class=\"data row4 col9\" >0.72</td>\n",
       "    </tr>\n",
       "    <tr>\n",
       "      <th id=\"T_d9e71_level0_row5\" class=\"row_heading level0 row5\" >5</th>\n",
       "      <td id=\"T_d9e71_row5_col0\" class=\"data row5 col0\" >entertainment</td>\n",
       "      <td id=\"T_d9e71_row5_col1\" class=\"data row5 col1\" >0.21</td>\n",
       "      <td id=\"T_d9e71_row5_col2\" class=\"data row5 col2\" >0.30</td>\n",
       "      <td id=\"T_d9e71_row5_col3\" class=\"data row5 col3\" >0.25</td>\n",
       "      <td id=\"T_d9e71_row5_col4\" class=\"data row5 col4\" >0.87</td>\n",
       "      <td id=\"T_d9e71_row5_col5\" class=\"data row5 col5\" >8491</td>\n",
       "      <td id=\"T_d9e71_row5_col6\" class=\"data row5 col6\" >787</td>\n",
       "      <td id=\"T_d9e71_row5_col7\" class=\"data row5 col7\" >506</td>\n",
       "      <td id=\"T_d9e71_row5_col8\" class=\"data row5 col8\" >214</td>\n",
       "      <td id=\"T_d9e71_row5_col9\" class=\"data row5 col9\" >0.64</td>\n",
       "    </tr>\n",
       "    <tr>\n",
       "      <th id=\"T_d9e71_level0_row6\" class=\"row_heading level0 row6\" >6</th>\n",
       "      <td id=\"T_d9e71_row6_col0\" class=\"data row6 col0\" >home and garden</td>\n",
       "      <td id=\"T_d9e71_row6_col1\" class=\"data row6 col1\" >0.09</td>\n",
       "      <td id=\"T_d9e71_row6_col2\" class=\"data row6 col2\" >0.95</td>\n",
       "      <td id=\"T_d9e71_row6_col3\" class=\"data row6 col3\" >0.16</td>\n",
       "      <td id=\"T_d9e71_row6_col4\" class=\"data row6 col4\" >0.32</td>\n",
       "      <td id=\"T_d9e71_row6_col5\" class=\"data row6 col5\" >2554</td>\n",
       "      <td id=\"T_d9e71_row6_col6\" class=\"data row6 col6\" >6746</td>\n",
       "      <td id=\"T_d9e71_row6_col7\" class=\"data row6 col7\" >33</td>\n",
       "      <td id=\"T_d9e71_row6_col8\" class=\"data row6 col8\" >665</td>\n",
       "      <td id=\"T_d9e71_row6_col9\" class=\"data row6 col9\" >0.80</td>\n",
       "    </tr>\n",
       "    <tr>\n",
       "      <th id=\"T_d9e71_level0_row7\" class=\"row_heading level0 row7\" >7</th>\n",
       "      <td id=\"T_d9e71_row7_col0\" class=\"data row7 col0\" >science and environment</td>\n",
       "      <td id=\"T_d9e71_row7_col1\" class=\"data row7 col1\" >0.02</td>\n",
       "      <td id=\"T_d9e71_row7_col2\" class=\"data row7 col2\" >0.13</td>\n",
       "      <td id=\"T_d9e71_row7_col3\" class=\"data row7 col3\" >0.04</td>\n",
       "      <td id=\"T_d9e71_row7_col4\" class=\"data row7 col4\" >0.61</td>\n",
       "      <td id=\"T_d9e71_row7_col5\" class=\"data row7 col5\" >6026</td>\n",
       "      <td id=\"T_d9e71_row7_col6\" class=\"data row7 col6\" >3353</td>\n",
       "      <td id=\"T_d9e71_row7_col7\" class=\"data row7 col7\" >540</td>\n",
       "      <td id=\"T_d9e71_row7_col8\" class=\"data row7 col8\" >79</td>\n",
       "      <td id=\"T_d9e71_row7_col9\" class=\"data row7 col9\" >0.32</td>\n",
       "    </tr>\n",
       "    <tr>\n",
       "      <th id=\"T_d9e71_level0_row8\" class=\"row_heading level0 row8\" >8</th>\n",
       "      <td id=\"T_d9e71_row8_col0\" class=\"data row8 col0\" >government and politics</td>\n",
       "      <td id=\"T_d9e71_row8_col1\" class=\"data row8 col1\" >0.12</td>\n",
       "      <td id=\"T_d9e71_row8_col2\" class=\"data row8 col2\" >0.75</td>\n",
       "      <td id=\"T_d9e71_row8_col3\" class=\"data row8 col3\" >0.20</td>\n",
       "      <td id=\"T_d9e71_row8_col4\" class=\"data row8 col4\" >0.64</td>\n",
       "      <td id=\"T_d9e71_row8_col5\" class=\"data row8 col5\" >5925</td>\n",
       "      <td id=\"T_d9e71_row8_col6\" class=\"data row8 col6\" >3459</td>\n",
       "      <td id=\"T_d9e71_row8_col7\" class=\"data row8 col7\" >154</td>\n",
       "      <td id=\"T_d9e71_row8_col8\" class=\"data row8 col8\" >460</td>\n",
       "      <td id=\"T_d9e71_row8_col9\" class=\"data row8 col9\" >0.76</td>\n",
       "    </tr>\n",
       "    <tr>\n",
       "      <th id=\"T_d9e71_level0_row9\" class=\"row_heading level0 row9\" >9</th>\n",
       "      <td id=\"T_d9e71_row9_col0\" class=\"data row9 col0\" >apparel</td>\n",
       "      <td id=\"T_d9e71_row9_col1\" class=\"data row9 col1\" >0.12</td>\n",
       "      <td id=\"T_d9e71_row9_col2\" class=\"data row9 col2\" >0.95</td>\n",
       "      <td id=\"T_d9e71_row9_col3\" class=\"data row9 col3\" >0.22</td>\n",
       "      <td id=\"T_d9e71_row9_col4\" class=\"data row9 col4\" >0.61</td>\n",
       "      <td id=\"T_d9e71_row9_col5\" class=\"data row9 col5\" >5567</td>\n",
       "      <td id=\"T_d9e71_row9_col6\" class=\"data row9 col6\" >3858</td>\n",
       "      <td id=\"T_d9e71_row9_col7\" class=\"data row9 col7\" >29</td>\n",
       "      <td id=\"T_d9e71_row9_col8\" class=\"data row9 col8\" >544</td>\n",
       "      <td id=\"T_d9e71_row9_col9\" class=\"data row9 col9\" >0.92</td>\n",
       "    </tr>\n",
       "  </tbody>\n",
       "</table>\n"
      ],
      "text/plain": [
       "<pandas.io.formats.style.Styler at 0x7fa9b7c1abc0>"
      ]
     },
     "execution_count": 33,
     "metadata": {},
     "output_type": "execute_result"
    }
   ],
   "source": [
    "eval_df = evaluate(small_df_2[small_df_2['topics'].apply(lambda x: isinstance(x,str))], label_col=\"topics\", threshold=0.01)\n",
    "\n",
    "eval_df\\\n",
    ".style\\\n",
    ".format(precision=2) \\\n",
    ".set_properties(**{'color': 'red'}, subset=['false negative', 'false positive'])\\\n",
    ".set_properties(**{'color': 'green'}, subset=['true negative', 'true positive'])"
   ]
  },
  {
   "cell_type": "code",
   "execution_count": 23,
   "id": "e3942a1b-a07e-4bbe-b4ad-adcdd9503fd1",
   "metadata": {},
   "outputs": [],
   "source": [
    "small_df_2.to_pickle(\"small_df_use_10000\")"
   ]
  },
  {
   "cell_type": "code",
   "execution_count": null,
   "id": "fc014f73-bdb3-4267-ab28-609ce783b2f4",
   "metadata": {},
   "outputs": [],
   "source": [
    "small_df_2[small_df_2['pred'].apply(lambda x: x[3]>0.1)]"
   ]
  }
 ],
 "metadata": {
  "environment": {
   "kernel": "python3",
   "name": "tf2-gpu.2-11.m108",
   "type": "gcloud",
   "uri": "gcr.io/deeplearning-platform-release/tf2-gpu.2-11:m108"
  },
  "kernelspec": {
   "display_name": "Python 3 (ipykernel)",
   "language": "python",
   "name": "python3"
  },
  "language_info": {
   "codemirror_mode": {
    "name": "ipython",
    "version": 3
   },
   "file_extension": ".py",
   "mimetype": "text/x-python",
   "name": "python",
   "nbconvert_exporter": "python",
   "pygments_lexer": "ipython3",
   "version": "3.10.10"
  }
 },
 "nbformat": 4,
 "nbformat_minor": 5
}
